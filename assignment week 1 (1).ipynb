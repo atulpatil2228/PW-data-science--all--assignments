{
 "cells": [
  {
   "cell_type": "markdown",
   "id": "ecf4f4f5-3ff8-48e4-bf1d-0881972bc76e",
   "metadata": {},
   "source": [
    "### Create one variable containing following type of data:"
   ]
  },
  {
   "cell_type": "markdown",
   "id": "38af711e-0d60-4bea-a272-77c5ea762b93",
   "metadata": {},
   "source": [
    "#### (i) string"
   ]
  },
  {
   "cell_type": "code",
   "execution_count": 6,
   "id": "c5c29af1-2282-478c-8b18-1f9fca94720d",
   "metadata": {},
   "outputs": [],
   "source": [
    "b = \"atul\""
   ]
  },
  {
   "cell_type": "code",
   "execution_count": 7,
   "id": "30ee190e-05b6-4b71-8db0-abe80eb19031",
   "metadata": {},
   "outputs": [
    {
     "data": {
      "text/plain": [
       "'atul'"
      ]
     },
     "execution_count": 7,
     "metadata": {},
     "output_type": "execute_result"
    }
   ],
   "source": [
    "b"
   ]
  },
  {
   "cell_type": "code",
   "execution_count": 8,
   "id": "dd539474-a1ea-4bb6-92cd-b3c1720f8bf0",
   "metadata": {},
   "outputs": [
    {
     "data": {
      "text/plain": [
       "str"
      ]
     },
     "execution_count": 8,
     "metadata": {},
     "output_type": "execute_result"
    }
   ],
   "source": [
    "type(b)"
   ]
  },
  {
   "cell_type": "markdown",
   "id": "60dca43d-3890-4c8f-83e9-105548dd3004",
   "metadata": {},
   "source": [
    "#### (ii) list"
   ]
  },
  {
   "cell_type": "code",
   "execution_count": 10,
   "id": "27210a0b-cd69-48e2-b507-c54cbcee653a",
   "metadata": {},
   "outputs": [],
   "source": [
    "m = [1,2,3,45.6,\"atul\",True,3+4j]"
   ]
  },
  {
   "cell_type": "code",
   "execution_count": 11,
   "id": "a8d091dc-1286-4d73-9f57-219635d9415a",
   "metadata": {},
   "outputs": [
    {
     "data": {
      "text/plain": [
       "[1, 2, 3, 45.6, 'atul', True, (3+4j)]"
      ]
     },
     "execution_count": 11,
     "metadata": {},
     "output_type": "execute_result"
    }
   ],
   "source": [
    "m"
   ]
  },
  {
   "cell_type": "code",
   "execution_count": 12,
   "id": "b6ac6ad6-4591-4607-bb7d-5f8635898366",
   "metadata": {},
   "outputs": [
    {
     "data": {
      "text/plain": [
       "list"
      ]
     },
     "execution_count": 12,
     "metadata": {},
     "output_type": "execute_result"
    }
   ],
   "source": [
    "type(m)"
   ]
  },
  {
   "cell_type": "markdown",
   "id": "3677fdd7-ff81-4d46-9a1a-a0fffe29ee3d",
   "metadata": {},
   "source": [
    "### (iii) float"
   ]
  },
  {
   "cell_type": "code",
   "execution_count": 13,
   "id": "be62ac49-10c3-4c2e-ad69-2e5fe1aecece",
   "metadata": {},
   "outputs": [],
   "source": [
    "n = 28.28"
   ]
  },
  {
   "cell_type": "code",
   "execution_count": 14,
   "id": "dad839a5-3536-4b8f-a74a-4e62c2517ef9",
   "metadata": {},
   "outputs": [
    {
     "data": {
      "text/plain": [
       "28.28"
      ]
     },
     "execution_count": 14,
     "metadata": {},
     "output_type": "execute_result"
    }
   ],
   "source": [
    "n"
   ]
  },
  {
   "cell_type": "code",
   "execution_count": 15,
   "id": "b40ef1ef-59d3-4a89-9c8f-ed84d0fc9688",
   "metadata": {},
   "outputs": [
    {
     "data": {
      "text/plain": [
       "float"
      ]
     },
     "execution_count": 15,
     "metadata": {},
     "output_type": "execute_result"
    }
   ],
   "source": [
    "type(n)"
   ]
  },
  {
   "cell_type": "markdown",
   "id": "2878a685-3faf-4b9b-b59b-8d6902fe3838",
   "metadata": {},
   "source": [
    "### (iv) tuple"
   ]
  },
  {
   "cell_type": "code",
   "execution_count": 16,
   "id": "59271f01-4680-432d-bad2-27806ad43cb8",
   "metadata": {},
   "outputs": [],
   "source": [
    "z = (33,28,50)"
   ]
  },
  {
   "cell_type": "code",
   "execution_count": 17,
   "id": "cc0e0558-63fa-498d-8f87-f9191fd800cd",
   "metadata": {},
   "outputs": [
    {
     "data": {
      "text/plain": [
       "(33, 28, 50)"
      ]
     },
     "execution_count": 17,
     "metadata": {},
     "output_type": "execute_result"
    }
   ],
   "source": [
    "z"
   ]
  },
  {
   "cell_type": "code",
   "execution_count": 18,
   "id": "93898141-62cb-4652-8ffe-5e069ee77c77",
   "metadata": {},
   "outputs": [
    {
     "data": {
      "text/plain": [
       "tuple"
      ]
     },
     "execution_count": 18,
     "metadata": {},
     "output_type": "execute_result"
    }
   ],
   "source": [
    "type(z)"
   ]
  },
  {
   "cell_type": "markdown",
   "id": "7082afe4-8405-406c-ba9e-bfa7010fe213",
   "metadata": {},
   "source": [
    "## Given are some following variables containing data:"
   ]
  },
  {
   "cell_type": "markdown",
   "id": "07af2776-05e9-4785-9d8f-a16bfc424235",
   "metadata": {},
   "source": [
    "### (i) var1 = ‘ ‘\n"
   ]
  },
  {
   "cell_type": "code",
   "execution_count": 21,
   "id": "b83ecac2-1b11-40a7-80fe-b8d1ca9fd44f",
   "metadata": {},
   "outputs": [],
   "source": [
    "a = ''"
   ]
  },
  {
   "cell_type": "code",
   "execution_count": 22,
   "id": "09db1279-c1c6-4701-9b05-39bc4bdc4f21",
   "metadata": {},
   "outputs": [
    {
     "data": {
      "text/plain": [
       "str"
      ]
     },
     "execution_count": 22,
     "metadata": {},
     "output_type": "execute_result"
    }
   ],
   "source": [
    "type(a)"
   ]
  },
  {
   "cell_type": "markdown",
   "id": "5ed8c836-7a15-43e2-a107-ab7edf6f4fd4",
   "metadata": {},
   "source": [
    "## (ii) var2 = ‘[ DS , ML , Python]’"
   ]
  },
  {
   "cell_type": "code",
   "execution_count": 23,
   "id": "d349a601-a1fe-40b5-af87-7e7e54896bf7",
   "metadata": {},
   "outputs": [],
   "source": [
    "D = '[DS,ML,PYTHON]'"
   ]
  },
  {
   "cell_type": "code",
   "execution_count": 25,
   "id": "f81691dc-3a8b-4af4-8626-238668583f99",
   "metadata": {},
   "outputs": [
    {
     "data": {
      "text/plain": [
       "str"
      ]
     },
     "execution_count": 25,
     "metadata": {},
     "output_type": "execute_result"
    }
   ],
   "source": [
    "type(D)"
   ]
  },
  {
   "cell_type": "markdown",
   "id": "446195da-0286-47e1-a6f0-5ce865ca235f",
   "metadata": {},
   "source": [
    "### (iii) var3 = [ ‘DS’ , ’ML’ , ‘Python’ ]"
   ]
  },
  {
   "cell_type": "code",
   "execution_count": 26,
   "id": "193c7d7a-6c30-405c-8fb6-53721ae9a0a2",
   "metadata": {},
   "outputs": [],
   "source": [
    "c = [\"DS\",\"ML\",\"PYTHON\"]"
   ]
  },
  {
   "cell_type": "code",
   "execution_count": 27,
   "id": "1caee4c4-baee-49e1-b8b1-6377e296c324",
   "metadata": {},
   "outputs": [
    {
     "data": {
      "text/plain": [
       "list"
      ]
     },
     "execution_count": 27,
     "metadata": {},
     "output_type": "execute_result"
    }
   ],
   "source": [
    "type(c)"
   ]
  },
  {
   "cell_type": "markdown",
   "id": "8ae9bdbd-c939-4b7f-833a-8ec4454a7ba3",
   "metadata": {},
   "source": [
    "### (iv) var4 = 1."
   ]
  },
  {
   "cell_type": "code",
   "execution_count": 28,
   "id": "dc03a1c6-3387-4477-98a1-2f88fc4d678b",
   "metadata": {},
   "outputs": [],
   "source": [
    "m = 1."
   ]
  },
  {
   "cell_type": "code",
   "execution_count": 29,
   "id": "2c6294e2-d931-4cba-8573-0c2197400170",
   "metadata": {},
   "outputs": [
    {
     "data": {
      "text/plain": [
       "float"
      ]
     },
     "execution_count": 29,
     "metadata": {},
     "output_type": "execute_result"
    }
   ],
   "source": [
    "type(m)"
   ]
  },
  {
   "cell_type": "markdown",
   "id": "15d981f6-881e-49ac-a60a-ab6e5e31d0be",
   "metadata": {},
   "source": [
    "## Q3. Explain the use of the following operators using an example:"
   ]
  },
  {
   "cell_type": "markdown",
   "id": "90b31bb6-8555-45a0-9b44-9f9d6384b7e9",
   "metadata": {},
   "source": [
    "### (i) /"
   ]
  },
  {
   "cell_type": "code",
   "execution_count": 31,
   "id": "59bae715-8638-425b-a17a-4c299078d6a9",
   "metadata": {},
   "outputs": [
    {
     "data": {
      "text/plain": [
       "2.0"
      ]
     },
     "execution_count": 31,
     "metadata": {},
     "output_type": "execute_result"
    }
   ],
   "source": [
    " 4/2"
   ]
  },
  {
   "cell_type": "markdown",
   "id": "3c679f6b-73bf-45ba-93e2-49c60476a408",
   "metadata": {},
   "source": [
    "### (ii) %"
   ]
  },
  {
   "cell_type": "code",
   "execution_count": 32,
   "id": "8004086c-8103-40ce-a7e4-de5aa88fd70b",
   "metadata": {},
   "outputs": [
    {
     "data": {
      "text/plain": [
       "1"
      ]
     },
     "execution_count": 32,
     "metadata": {},
     "output_type": "execute_result"
    }
   ],
   "source": [
    "5%2"
   ]
  },
  {
   "cell_type": "markdown",
   "id": "dea227b6-5743-4adc-b216-96d02fc4b395",
   "metadata": {},
   "source": [
    "### (iii) //"
   ]
  },
  {
   "cell_type": "code",
   "execution_count": 33,
   "id": "12caa531-0f59-4346-88d1-1eeca34ab7a1",
   "metadata": {},
   "outputs": [
    {
     "data": {
      "text/plain": [
       "3"
      ]
     },
     "execution_count": 33,
     "metadata": {},
     "output_type": "execute_result"
    }
   ],
   "source": [
    "10 // 3"
   ]
  },
  {
   "cell_type": "markdown",
   "id": "0b4d0233-94d0-4230-9ca1-c4765cc8c078",
   "metadata": {},
   "source": [
    "### (iv) **"
   ]
  },
  {
   "cell_type": "code",
   "execution_count": 35,
   "id": "429e8c92-5ced-4edb-8fec-5c6286a7b6ca",
   "metadata": {},
   "outputs": [
    {
     "data": {
      "text/plain": [
       "43046721"
      ]
     },
     "execution_count": 35,
     "metadata": {},
     "output_type": "execute_result"
    }
   ],
   "source": [
    "9**8"
   ]
  },
  {
   "cell_type": "code",
   "execution_count": null,
   "id": "4b3fef19-da37-40cf-b9b3-0da6e7a7c00e",
   "metadata": {},
   "outputs": [],
   "source": []
  },
  {
   "cell_type": "code",
   "execution_count": null,
   "id": "032bc70b-92ab-4ab9-9d87-f15461facc53",
   "metadata": {},
   "outputs": [],
   "source": []
  },
  {
   "cell_type": "markdown",
   "id": "31eb72ef-1746-4003-aaa1-aab98bd93cb0",
   "metadata": {},
   "source": [
    "## Q4. Create a list of length 10 of your choice containing multiple types of data. Using for loop print the element and its type. \n"
   ]
  },
  {
   "cell_type": "code",
   "execution_count": 1,
   "id": "90a0eb42-9afb-435d-bb83-fdc1f8adb967",
   "metadata": {},
   "outputs": [
    {
     "name": "stdout",
     "output_type": "stream",
     "text": [
      "atul\n",
      "42\n",
      "3.14\n",
      "True\n",
      "[1, 2, 3]\n",
      "('apple', 'banana', 'cherry')\n",
      "(5+7j)\n",
      "{1, 2, 3}\n",
      "b'hello'\n",
      "{'name': 'atul'}\n"
     ]
    }
   ],
   "source": [
    "l = [\"atul\",42,3.14,True,[1,2,3],('apple','banana','cherry'),5+7j,{1,2,3},b\"hello\",{\"name\":\"atul\"}]\n",
    "for m in l:\n",
    "    print(m)"
   ]
  },
  {
   "cell_type": "code",
   "execution_count": null,
   "id": "733c6909-8f0a-4899-9289-dfae3c416838",
   "metadata": {},
   "outputs": [],
   "source": []
  },
  {
   "cell_type": "markdown",
   "id": "b76f1b3c-d5ff-4323-9acc-6cbee57a055b",
   "metadata": {},
   "source": [
    "## Q7. What do you understand about mutable and immutable data types? Give examples for both showing this property.\n"
   ]
  },
  {
   "cell_type": "markdown",
   "id": "512142ca-230c-4e3a-be4e-09697afd3f7d",
   "metadata": {},
   "source": [
    "#### mutability"
   ]
  },
  {
   "cell_type": "code",
   "execution_count": 1,
   "id": "3787221f-2bd7-4602-a8a9-04c7060181fe",
   "metadata": {},
   "outputs": [],
   "source": [
    "l =[2,3,4,5,6,\"atul\",'pwskills',True,4+7j]"
   ]
  },
  {
   "cell_type": "code",
   "execution_count": 2,
   "id": "3f503c8d-6a39-45a0-84b5-a39e066f026e",
   "metadata": {},
   "outputs": [
    {
     "data": {
      "text/plain": [
       "[2, 3, 4, 5, 6, 'atul', 'pwskills', True, (4+7j)]"
      ]
     },
     "execution_count": 2,
     "metadata": {},
     "output_type": "execute_result"
    }
   ],
   "source": [
    "l"
   ]
  },
  {
   "cell_type": "code",
   "execution_count": 4,
   "id": "6af571e3-b0a8-4faa-8a75-46a9788fe5e2",
   "metadata": {},
   "outputs": [
    {
     "data": {
      "text/plain": [
       "'pwskills'"
      ]
     },
     "execution_count": 4,
     "metadata": {},
     "output_type": "execute_result"
    }
   ],
   "source": [
    "l[6]"
   ]
  },
  {
   "cell_type": "code",
   "execution_count": 5,
   "id": "ad4eeac6-4bbe-499c-9985-0387e3e7debb",
   "metadata": {},
   "outputs": [],
   "source": [
    "l[6] = 100"
   ]
  },
  {
   "cell_type": "code",
   "execution_count": 6,
   "id": "a579753a-2593-4e69-b922-0461c353a548",
   "metadata": {},
   "outputs": [
    {
     "data": {
      "text/plain": [
       "[2, 3, 4, 5, 6, 'atul', 100, True, (4+7j)]"
      ]
     },
     "execution_count": 6,
     "metadata": {},
     "output_type": "execute_result"
    }
   ],
   "source": [
    "l"
   ]
  },
  {
   "cell_type": "markdown",
   "id": "17804a30-adbe-4a9a-979d-64fe800de1b5",
   "metadata": {},
   "source": [
    "######  we are able to change on a particular index (list)"
   ]
  },
  {
   "cell_type": "code",
   "execution_count": null,
   "id": "6545cf43-6255-4420-8e91-d8b9fa8bd1e4",
   "metadata": {},
   "outputs": [],
   "source": []
  },
  {
   "cell_type": "markdown",
   "id": "d07da3b4-9269-42e0-b001-e8b0f1a519f9",
   "metadata": {},
   "source": [
    "### immutability"
   ]
  },
  {
   "cell_type": "code",
   "execution_count": 10,
   "id": "dedea59f-4039-47b3-b9c2-d820662ed028",
   "metadata": {},
   "outputs": [],
   "source": [
    "a = 'atul'"
   ]
  },
  {
   "cell_type": "code",
   "execution_count": 11,
   "id": "09fe5145-aa28-4b16-9056-65343a972a47",
   "metadata": {},
   "outputs": [
    {
     "data": {
      "text/plain": [
       "'atul'"
      ]
     },
     "execution_count": 11,
     "metadata": {},
     "output_type": "execute_result"
    }
   ],
   "source": [
    "a"
   ]
  },
  {
   "cell_type": "code",
   "execution_count": 12,
   "id": "0a828b05-6b84-45d9-b0d3-660f9c452150",
   "metadata": {},
   "outputs": [
    {
     "data": {
      "text/plain": [
       "'u'"
      ]
     },
     "execution_count": 12,
     "metadata": {},
     "output_type": "execute_result"
    }
   ],
   "source": [
    "a [2]"
   ]
  },
  {
   "cell_type": "code",
   "execution_count": 13,
   "id": "ebfdb754-6113-4c35-bf9b-8600a57b32c8",
   "metadata": {},
   "outputs": [
    {
     "ename": "TypeError",
     "evalue": "'str' object does not support item assignment",
     "output_type": "error",
     "traceback": [
      "\u001b[0;31m---------------------------------------------------------------------------\u001b[0m",
      "\u001b[0;31mTypeError\u001b[0m                                 Traceback (most recent call last)",
      "Cell \u001b[0;32mIn[13], line 1\u001b[0m\n\u001b[0;32m----> 1\u001b[0m \u001b[43ma\u001b[49m\u001b[43m[\u001b[49m\u001b[38;5;241;43m2\u001b[39;49m\u001b[43m]\u001b[49m \u001b[38;5;241m=\u001b[39m \u001b[38;5;241m19\u001b[39m\n",
      "\u001b[0;31mTypeError\u001b[0m: 'str' object does not support item assignment"
     ]
    }
   ],
   "source": [
    "a[2] = 19"
   ]
  },
  {
   "cell_type": "markdown",
   "id": "9702a95e-ffe9-4412-a1c8-f4ba3988bf46",
   "metadata": {},
   "source": [
    " ##### we are not able to change at a particular indexes ( sting)"
   ]
  },
  {
   "cell_type": "code",
   "execution_count": null,
   "id": "0d4a1386-e54d-42a9-805a-30d5b5e9e79f",
   "metadata": {},
   "outputs": [],
   "source": []
  },
  {
   "cell_type": "markdown",
   "id": "778a94cf-a5ff-4c37-a69b-66b1a1d7b74f",
   "metadata": {},
   "source": [
    "### Q6)Create a list containing 25 int type data. Using for loop and if-else condition print if the element is divisible by 3 or no\n",
    "       "
   ]
  },
  {
   "cell_type": "code",
   "execution_count": 2,
   "id": "fbe4fea1-c9e8-49e7-932f-f4223d7ef58f",
   "metadata": {},
   "outputs": [
    {
     "name": "stdout",
     "output_type": "stream",
     "text": [
      "if number is not divisible by three\n",
      "if number is not divisible by three\n",
      "if the number is divisible by three\n",
      "if number is not divisible by three\n",
      "if number is not divisible by three\n",
      "if the number is divisible by three\n",
      "if number is not divisible by three\n",
      "if number is not divisible by three\n",
      "if the number is divisible by three\n",
      "if number is not divisible by three\n",
      "if number is not divisible by three\n",
      "if the number is divisible by three\n",
      "if number is not divisible by three\n",
      "if number is not divisible by three\n",
      "if the number is divisible by three\n",
      "if number is not divisible by three\n",
      "if number is not divisible by three\n",
      "if the number is divisible by three\n",
      "if number is not divisible by three\n",
      "if number is not divisible by three\n",
      "if the number is divisible by three\n",
      "if number is not divisible by three\n",
      "if number is not divisible by three\n",
      "if the number is divisible by three\n",
      "if number is not divisible by three\n"
     ]
    }
   ],
   "source": [
    "l = [1,2,3,4,5,6,7,8,9,10,11,12,13,14,15,16,17,18,19,20,21,22,23,24,25]\n",
    "for n in l :\n",
    "    if n % 3 == 0 :\n",
    "        print(\"if the number is divisible by three\")\n",
    "          \n",
    "    else:        \n",
    "            print(\"if number is not divisible by three\")\n",
    "        "
   ]
  },
  {
   "cell_type": "code",
   "execution_count": null,
   "id": "cd967feb-e2d5-4a46-bbf4-455130b1081b",
   "metadata": {},
   "outputs": [],
   "source": []
  },
  {
   "cell_type": "markdown",
   "id": "b0fd693b-65e7-4355-8cd2-9f526d6e06b0",
   "metadata": {},
   "source": [
    "### Q5 )Using a while loop, verify if the number A is purely divisible by number B and if so then how many times it can be divisible\n"
   ]
  },
  {
   "cell_type": "code",
   "execution_count": 5,
   "id": "ced2a5f8-cc6b-475b-80c8-acb0a1822cb3",
   "metadata": {},
   "outputs": [
    {
     "name": "stdin",
     "output_type": "stream",
     "text": [
      "enter the value of a 4\n",
      "enter the value of b 2\n"
     ]
    },
    {
     "name": "stdout",
     "output_type": "stream",
     "text": [
      "a is divisible by b\n",
      "a is divisible by b\n"
     ]
    }
   ],
   "source": [
    "a = int(input(\"enter the value of a\"))\n",
    "b = int(input(\"enter the value of b\"))\n",
    "\n",
    "count = 0\n",
    "while a % b == 0:\n",
    "    a = a / b \n",
    "    count += 1\n",
    "    \n",
    "    if count > 0 :\n",
    "        print(\"a is divisible by b\")\n",
    "        \n",
    "    else:\n",
    "            print(\"a is not divisible by b\")"
   ]
  },
  {
   "cell_type": "code",
   "execution_count": null,
   "id": "d35e1139-7f5e-4b56-9739-cc09dd8c19dc",
   "metadata": {},
   "outputs": [],
   "source": []
  },
  {
   "cell_type": "code",
   "execution_count": null,
   "id": "197ab4f8-2d93-4f74-994d-cc109f81d66f",
   "metadata": {},
   "outputs": [],
   "source": []
  }
 ],
 "metadata": {
  "kernelspec": {
   "display_name": "Python 3 (ipykernel)",
   "language": "python",
   "name": "python3"
  },
  "language_info": {
   "codemirror_mode": {
    "name": "ipython",
    "version": 3
   },
   "file_extension": ".py",
   "mimetype": "text/x-python",
   "name": "python",
   "nbconvert_exporter": "python",
   "pygments_lexer": "ipython3",
   "version": "3.10.8"
  }
 },
 "nbformat": 4,
 "nbformat_minor": 5
}
