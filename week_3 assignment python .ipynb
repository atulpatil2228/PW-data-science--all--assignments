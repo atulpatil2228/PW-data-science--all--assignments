{
 "cells": [
  {
   "cell_type": "markdown",
   "id": "b950297c-e62c-4a47-b4ef-52663f6bf62e",
   "metadata": {},
   "source": [
    " # Q1. Create a python program to sort the given list of tuples based on integer value using a lambda function \n",
    "[('Sachin Tendulkar', 34357), ('Ricky Ponting', 27483), ('Jack Kallis', 25534), ('Virat Kohli', 24936)]"
   ]
  },
  {
   "cell_type": "code",
   "execution_count": 2,
   "id": "d62fac84-a7ab-4df7-b86a-0b7aa435f435",
   "metadata": {},
   "outputs": [],
   "source": [
    "lst  = [('Sachin Tendulkar', 34357), ('Ricky Ponting', 27483), ('Jack Kallis', 25534), ('Virat Kohli', 24936)]"
   ]
  },
  {
   "cell_type": "code",
   "execution_count": 21,
   "id": "b8934f34-2af5-4be2-86e7-29c4c8add699",
   "metadata": {},
   "outputs": [],
   "source": [
    " lst1 = (data, lambda lst : lst[11])"
   ]
  },
  {
   "cell_type": "code",
   "execution_count": 22,
   "id": "8cd0149d-ed34-4a95-b5c2-a57970e25a32",
   "metadata": {},
   "outputs": [
    {
     "data": {
      "text/plain": [
       "([('Sachin Tendulkar', 34357),\n",
       "  ('Ricky Ponting', 27483),\n",
       "  ('Jack Kallis', 25534),\n",
       "  ('Virat Kohli', 24936)],\n",
       " <function __main__.<lambda>(lst)>)"
      ]
     },
     "execution_count": 22,
     "metadata": {},
     "output_type": "execute_result"
    }
   ],
   "source": [
    "lst1"
   ]
  },
  {
   "cell_type": "code",
   "execution_count": null,
   "id": "ccd27f47-d015-4941-80a9-39d827271644",
   "metadata": {},
   "outputs": [],
   "source": []
  },
  {
   "cell_type": "markdown",
   "id": "7a991c45-fa28-4983-be69-bfcdfd06ee75",
   "metadata": {},
   "source": [
    "#Q2. Write a Python Program to find the squares of all the numbers in the given list of integers using lambda and map functions.\n",
    "    #[1, 2, 3, 4, 5, 6, 7, 8, 9, 10]"
   ]
  },
  {
   "cell_type": "code",
   "execution_count": 24,
   "id": "8f90a1d6-6fe3-4046-8ec8-cb2d320c4376",
   "metadata": {},
   "outputs": [],
   "source": [
    "lst = [1, 2, 3, 4, 5, 6, 7, 8, 9, 10]"
   ]
  },
  {
   "cell_type": "code",
   "execution_count": null,
   "id": "99421ae0-c923-4f54-8c78-7b1dd5cf3d80",
   "metadata": {},
   "outputs": [],
   "source": [
    "lst1 = (data)"
   ]
  },
  {
   "cell_type": "code",
   "execution_count": 26,
   "id": "7c3728bc-d9e9-4221-9833-e946db0e3004",
   "metadata": {},
   "outputs": [
    {
     "data": {
      "text/plain": [
       "[1, 4, 9, 16, 25, 36, 49, 64, 81, 100]"
      ]
     },
     "execution_count": 26,
     "metadata": {},
     "output_type": "execute_result"
    }
   ],
   "source": [
    "list(map(lambda lst : lst**2 , lst))"
   ]
  },
  {
   "cell_type": "code",
   "execution_count": null,
   "id": "d861c522-3a2a-4a13-b61f-68e56f7ff705",
   "metadata": {},
   "outputs": [],
   "source": []
  },
  {
   "cell_type": "markdown",
   "id": "0235360f-d47f-4a9e-81c0-a61aa6d67195",
   "metadata": {},
   "source": [
    "Q3. Write a python program to convert the given list of integers into a tuple of strings. Use map and\n",
    "lambda functions\n",
    "Given String: [1, 2, 3, 4, 5, 6, 7, 8, 9, 10]\n",
    "Expected output: ('1', '2', '3', '4', '5', '6', '7', '8', '9', '10')"
   ]
  },
  {
   "cell_type": "code",
   "execution_count": 27,
   "id": "2ee9fc78-0f47-4635-806e-dd6f2ff21f34",
   "metadata": {},
   "outputs": [],
   "source": [
    "lst1 = [1, 2, 3, 4, 5, 6, 7, 8, 9, 10]"
   ]
  },
  {
   "cell_type": "code",
   "execution_count": 39,
   "id": "3b01afa0-3902-40ab-9770-445d7cc92536",
   "metadata": {},
   "outputs": [
    {
     "data": {
      "text/plain": [
       "('1', '2', '3', '4', '5', '6', '7', '8', '9', '10')"
      ]
     },
     "execution_count": 39,
     "metadata": {},
     "output_type": "execute_result"
    }
   ],
   "source": [
    "tuple(map(lambda x : str(x) , lst1))"
   ]
  },
  {
   "cell_type": "code",
   "execution_count": null,
   "id": "7917a096-9fb0-4713-8773-bf932bf84061",
   "metadata": {},
   "outputs": [],
   "source": []
  },
  {
   "cell_type": "markdown",
   "id": "64002665-c55f-49a4-b28f-40c0cdbd650d",
   "metadata": {},
   "source": [
    "## Q4. Write a python program using reduce function to compute the product of a list containing numbers from 1 to 25."
   ]
  },
  {
   "cell_type": "code",
   "execution_count": 49,
   "id": "b008c7fc-8994-469a-b4e2-bd4e2d5ce15f",
   "metadata": {},
   "outputs": [
    {
     "data": {
      "text/plain": [
       "620448401733239439360000"
      ]
     },
     "execution_count": 49,
     "metadata": {},
     "output_type": "execute_result"
    }
   ],
   "source": [
    "from functools import reduce \n",
    "numbers_1 = range (1,25)\n",
    "reduce(lambda x, y: x * y, numbers_1)"
   ]
  },
  {
   "cell_type": "code",
   "execution_count": null,
   "id": "120d43e7-fe28-4651-95c8-8fc663afc32e",
   "metadata": {},
   "outputs": [],
   "source": []
  },
  {
   "cell_type": "markdown",
   "id": "1dad0fbd-2582-4447-a4b1-2c713f9df454",
   "metadata": {},
   "source": [
    "## Q5. Write a python program to filter the numbers in a given list that are divisible by 2 and 3 using the filter function.\n",
    "[2, 3, 6, 9, 27, 60, 90, 120, 55, 46]"
   ]
  },
  {
   "cell_type": "code",
   "execution_count": 50,
   "id": "3df55910-e384-4c30-ac04-9a1b05a5ecb7",
   "metadata": {},
   "outputs": [],
   "source": [
    "atul =  [2, 3, 6, 9, 27, 60, 90, 120, 55, 46]"
   ]
  },
  {
   "cell_type": "code",
   "execution_count": 51,
   "id": "9f3fe4a2-914f-4508-9973-ddc086922941",
   "metadata": {},
   "outputs": [
    {
     "data": {
      "text/plain": [
       "[6, 60, 90, 120]"
      ]
     },
     "execution_count": 51,
     "metadata": {},
     "output_type": "execute_result"
    }
   ],
   "source": [
    "list(filter(lambda x :  x % 6 == 0 ,atul))"
   ]
  },
  {
   "cell_type": "code",
   "execution_count": null,
   "id": "29facf27-7065-4a2f-99cb-3e1ce435dcbb",
   "metadata": {},
   "outputs": [],
   "source": []
  },
  {
   "cell_type": "markdown",
   "id": "16089dc4-7ea8-4687-8d63-2b1e3cb2a0ff",
   "metadata": {},
   "source": [
    "   ##Q6. Write a python program to find palindromes in the given list of strings using lambda and filter function.\n",
    "['python', 'php', 'aba', 'radar', 'level']"
   ]
  },
  {
   "cell_type": "code",
   "execution_count": 52,
   "id": "07bf5410-8463-4589-9371-331f89d3a4a4",
   "metadata": {},
   "outputs": [],
   "source": [
    "patil = ['python', 'php', 'aba', 'radar', 'level']"
   ]
  },
  {
   "cell_type": "code",
   "execution_count": 58,
   "id": "9a52e2a6-1be9-44df-b30c-7ee5ec08ec3f",
   "metadata": {},
   "outputs": [
    {
     "data": {
      "text/plain": [
       "['php', 'aba', 'radar', 'level']"
      ]
     },
     "execution_count": 58,
     "metadata": {},
     "output_type": "execute_result"
    }
   ],
   "source": [
    "list(filter(lambda word : word == word [::-1],patil))\n",
    "\n"
   ]
  },
  {
   "cell_type": "code",
   "execution_count": null,
   "id": "2571b16e-da70-49a8-90eb-6f84b5360df0",
   "metadata": {},
   "outputs": [],
   "source": []
  },
  {
   "cell_type": "code",
   "execution_count": null,
   "id": "28097f12-bae8-421f-8200-61852fd8690c",
   "metadata": {},
   "outputs": [],
   "source": []
  },
  {
   "cell_type": "code",
   "execution_count": null,
   "id": "9a1003fe-0383-4928-b632-2227b6bcb68a",
   "metadata": {},
   "outputs": [],
   "source": []
  },
  {
   "cell_type": "code",
   "execution_count": null,
   "id": "373b3241-93e8-42bd-b10e-57f35b74115a",
   "metadata": {},
   "outputs": [],
   "source": []
  }
 ],
 "metadata": {
  "kernelspec": {
   "display_name": "Python 3 (ipykernel)",
   "language": "python",
   "name": "python3"
  },
  "language_info": {
   "codemirror_mode": {
    "name": "ipython",
    "version": 3
   },
   "file_extension": ".py",
   "mimetype": "text/x-python",
   "name": "python",
   "nbconvert_exporter": "python",
   "pygments_lexer": "ipython3",
   "version": "3.10.8"
  }
 },
 "nbformat": 4,
 "nbformat_minor": 5
}
