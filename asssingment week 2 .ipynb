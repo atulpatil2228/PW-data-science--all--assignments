{
 "cells": [
  {
   "cell_type": "markdown",
   "id": "fe14ef36-be7e-4bcd-8f8d-e027b1bae27e",
   "metadata": {},
   "source": [
    "### Q1. How do you comment code in Python? What are the different types of comments?"
   ]
  },
  {
   "cell_type": "code",
   "execution_count": 1,
   "id": "191d15d3-3584-4025-8e3b-85809a2d45d5",
   "metadata": {},
   "outputs": [],
   "source": [
    "# single line comment :These comments are used for writing short comments that span only one line."
   ]
  },
  {
   "cell_type": "code",
   "execution_count": 4,
   "id": "1f5ffbb3-f7de-4f18-a5b7-78ea5c241d68",
   "metadata": {},
   "outputs": [
    {
     "name": "stdout",
     "output_type": "stream",
     "text": [
      "Hello,atul \n"
     ]
    }
   ],
   "source": [
    "# example\n",
    "# This is a single-line comment\n",
    "print(\"Hello,atul \")  # This is another comment after a code statement"
   ]
  },
  {
   "cell_type": "code",
   "execution_count": 6,
   "id": "aa60c95e-197c-4cbc-85a4-87d203e4b647",
   "metadata": {},
   "outputs": [],
   "source": [
    " # Multi-line comments : These comments are used for longer explanations that span multiple lines.(here # is not used)"
   ]
  },
  {
   "cell_type": "code",
   "execution_count": 7,
   "id": "ba1e93eb-6452-4389-83ff-0d5e6df60638",
   "metadata": {},
   "outputs": [
    {
     "name": "stdout",
     "output_type": "stream",
     "text": [
      "how are you mam\n"
     ]
    }
   ],
   "source": [
    "#example\n",
    "'''\n",
    "i am atul patil \n",
    "we together with the the people\n",
    "'''\n",
    "print(\"how are you mam\")"
   ]
  },
  {
   "cell_type": "code",
   "execution_count": null,
   "id": "bd918683-46a8-4392-bb1a-09eef66baaab",
   "metadata": {},
   "outputs": [],
   "source": []
  },
  {
   "cell_type": "markdown",
   "id": "35569057-6949-4bd9-81bd-830a8c7580c3",
   "metadata": {},
   "source": [
    "## Q2. What are variables in Python? How do you declare and assign values to variables?"
   ]
  },
  {
   "cell_type": "code",
   "execution_count": 8,
   "id": "b8cb653b-0c9e-4a23-9230-05428230a200",
   "metadata": {},
   "outputs": [],
   "source": [
    "## In Python, variables are used to store data or values in memory. They act as symbolic names that reference specific objects."
   ]
  },
  {
   "cell_type": "code",
   "execution_count": 16,
   "id": "a1d9ff80-a329-4f0f-bb94-95b6dfad6099",
   "metadata": {},
   "outputs": [],
   "source": [
    "# Assigning integer values to variables\n",
    "age = 25\n",
    "weight = 80\n",
    "\n",
    "## Assigning string values to variables\n",
    "name = \"atul\"\n",
    "address = \"nippani\"\n",
    "\n",
    "## Assigning boolean values to variables\n",
    "atul_patil = True\n",
    "atulp_atil = False\n",
    "\n",
    "## Assigning a list to a variable\n",
    "fruits = [\"banana\",\"apple\",\"mango\"]\n",
    "\n",
    "# Assigning a dictionary to a variable\n",
    "personal_info = {\"name\" : \"atul\", \"age\":23, \"class\" : \"chartered accont\" }\n",
    "\n",
    "x = y = z = 224\n",
    "\n",
    "## adding value to tuple\n",
    "even_number  = (2,4,6,10)\n",
    "\n"
   ]
  },
  {
   "cell_type": "code",
   "execution_count": 17,
   "id": "d5fe6a28-d189-4bab-8613-c75c6732108d",
   "metadata": {},
   "outputs": [
    {
     "data": {
      "text/plain": [
       "(2, 4, 6, 10)"
      ]
     },
     "execution_count": 17,
     "metadata": {},
     "output_type": "execute_result"
    }
   ],
   "source": [
    "even_number"
   ]
  },
  {
   "cell_type": "code",
   "execution_count": null,
   "id": "6d8a8938-205a-4c71-89da-843052179537",
   "metadata": {},
   "outputs": [],
   "source": []
  },
  {
   "cell_type": "markdown",
   "id": "c363801f-4447-47fc-9fdc-98f5b0186a5c",
   "metadata": {},
   "source": [
    "# Q3. How do you convert one data type to another in Python?"
   ]
  },
  {
   "cell_type": "code",
   "execution_count": 21,
   "id": "c145bfb1-947c-4046-badd-3d87951e3cac",
   "metadata": {},
   "outputs": [
    {
     "name": "stdout",
     "output_type": "stream",
     "text": [
      "12345\n"
     ]
    }
   ],
   "source": [
    "## string to integer\n",
    "strin_g = \"12345\"\n",
    "atul = int(strin_g)\n",
    "print(atul)"
   ]
  },
  {
   "cell_type": "code",
   "execution_count": 26,
   "id": "8a08c7fd-5a73-4bc2-a328-338ebdc44f67",
   "metadata": {},
   "outputs": [
    {
     "name": "stdout",
     "output_type": "stream",
     "text": [
      "89890898989.0\n"
     ]
    }
   ],
   "source": [
    "## string to float\n",
    "strin_g = \"89890898989\"\n",
    "atul = float(strin_g)\n",
    "print(atul)"
   ]
  },
  {
   "cell_type": "code",
   "execution_count": null,
   "id": "a83d0a16-e593-40ab-9ed1-125e2a1cc433",
   "metadata": {},
   "outputs": [],
   "source": []
  },
  {
   "cell_type": "code",
   "execution_count": 37,
   "id": "46043093-3143-460b-ac69-2a0e473bf1aa",
   "metadata": {},
   "outputs": [],
   "source": [
    "## integer to string\n",
    "integer = 78778\n"
   ]
  },
  {
   "cell_type": "code",
   "execution_count": 38,
   "id": "20a23974-b10a-4426-864a-deaee5bdb096",
   "metadata": {},
   "outputs": [
    {
     "data": {
      "text/plain": [
       "'78778'"
      ]
     },
     "execution_count": 38,
     "metadata": {},
     "output_type": "execute_result"
    }
   ],
   "source": [
    "str(integer)"
   ]
  },
  {
   "cell_type": "code",
   "execution_count": null,
   "id": "21d458d5-5b4c-44ad-adca-d566f4af1cba",
   "metadata": {},
   "outputs": [],
   "source": []
  },
  {
   "cell_type": "code",
   "execution_count": 41,
   "id": "00ea745e-8c24-4bb0-907e-bdb95f4976c9",
   "metadata": {},
   "outputs": [],
   "source": [
    "# string to list\n",
    "name = \"anna\""
   ]
  },
  {
   "cell_type": "code",
   "execution_count": 40,
   "id": "edde9e1f-9998-41a7-b772-d949d97b4005",
   "metadata": {},
   "outputs": [
    {
     "data": {
      "text/plain": [
       "['a', 'n', 'n', 'a']"
      ]
     },
     "execution_count": 40,
     "metadata": {},
     "output_type": "execute_result"
    }
   ],
   "source": [
    "list(name)"
   ]
  },
  {
   "cell_type": "code",
   "execution_count": null,
   "id": "e1461ebc-e79f-49b8-aa98-1bda5c6c9b1a",
   "metadata": {},
   "outputs": [],
   "source": []
  },
  {
   "cell_type": "code",
   "execution_count": 42,
   "id": "f66e8ac1-692e-4273-9eab-086870a35982",
   "metadata": {},
   "outputs": [],
   "source": [
    "# list to dict\n",
    "lst = [(\"name\",\"atul\"), (\"class\" , \"seventh\"),(\"address\" , \"kolhapur\"),(\"state\" , \"india\") ]"
   ]
  },
  {
   "cell_type": "code",
   "execution_count": 43,
   "id": "c050a078-8562-4566-971c-6fc44a683ed9",
   "metadata": {},
   "outputs": [
    {
     "data": {
      "text/plain": [
       "{'name': 'atul', 'class': 'seventh', 'address': 'kolhapur', 'state': 'india'}"
      ]
     },
     "execution_count": 43,
     "metadata": {},
     "output_type": "execute_result"
    }
   ],
   "source": [
    "dict(lst)"
   ]
  },
  {
   "cell_type": "code",
   "execution_count": null,
   "id": "f281c464-d139-4d46-82df-644b4642c3a7",
   "metadata": {},
   "outputs": [],
   "source": []
  },
  {
   "cell_type": "markdown",
   "id": "95a92b2d-08ff-42b4-9a0b-87a215f03473",
   "metadata": {},
   "source": [
    "# Q5. Given a list my_list = [1, 2, 3, 4, 5], write the code to slice the list and obtain the sub-list [2, 3]."
   ]
  },
  {
   "cell_type": "code",
   "execution_count": 44,
   "id": "b0e65497-3554-4b73-9f82-94901982ed86",
   "metadata": {},
   "outputs": [],
   "source": [
    "my_list = [1,2,3,4,5]"
   ]
  },
  {
   "cell_type": "code",
   "execution_count": 47,
   "id": "6f5ee077-fb39-425f-bf01-cb8d8efd0333",
   "metadata": {},
   "outputs": [
    {
     "data": {
      "text/plain": [
       "[2, 3]"
      ]
     },
     "execution_count": 47,
     "metadata": {},
     "output_type": "execute_result"
    }
   ],
   "source": [
    "my_list[1:3]"
   ]
  },
  {
   "cell_type": "code",
   "execution_count": null,
   "id": "77ea95ae-513e-4513-9ba5-afc66a9881c4",
   "metadata": {},
   "outputs": [],
   "source": []
  },
  {
   "cell_type": "markdown",
   "id": "664df810-03a1-4567-8b3c-04c3170ed500",
   "metadata": {},
   "source": [
    "# Q6. What is a complex number in mathematics, and how is it represented in Python?"
   ]
  },
  {
   "cell_type": "code",
   "execution_count": 49,
   "id": "34e1c910-eb62-41f2-9724-ef9964d9f0bc",
   "metadata": {},
   "outputs": [],
   "source": [
    "z= complex(3,4)"
   ]
  },
  {
   "cell_type": "code",
   "execution_count": 50,
   "id": "c3531fa1-12f6-49ca-9312-1401647da8b9",
   "metadata": {},
   "outputs": [
    {
     "data": {
      "text/plain": [
       "(3+4j)"
      ]
     },
     "execution_count": 50,
     "metadata": {},
     "output_type": "execute_result"
    }
   ],
   "source": [
    "z"
   ]
  },
  {
   "cell_type": "code",
   "execution_count": 52,
   "id": "5e11ab6b-2365-4a6f-90f9-44ddd3b2793b",
   "metadata": {},
   "outputs": [],
   "source": [
    "z1 = complex (39 ,33)"
   ]
  },
  {
   "cell_type": "code",
   "execution_count": 53,
   "id": "7dd39c23-3256-408e-a35e-0bd15f22fe6c",
   "metadata": {},
   "outputs": [
    {
     "data": {
      "text/plain": [
       "(39+33j)"
      ]
     },
     "execution_count": 53,
     "metadata": {},
     "output_type": "execute_result"
    }
   ],
   "source": [
    "z1"
   ]
  },
  {
   "cell_type": "code",
   "execution_count": null,
   "id": "e0fc3ba8-8f91-4a56-bac7-d56cc146efb2",
   "metadata": {},
   "outputs": [],
   "source": []
  },
  {
   "cell_type": "markdown",
   "id": "c90ac565-8f9d-4c56-a8b0-ca9ac6f62a75",
   "metadata": {},
   "source": [
    "# Q7. What is the correct way to declare a variable named age and assign the value 25 to it?"
   ]
  },
  {
   "cell_type": "code",
   "execution_count": 73,
   "id": "3f8427a1-4ce8-408b-b99d-1b49d94fcd52",
   "metadata": {},
   "outputs": [],
   "source": [
    "named_age = 25"
   ]
  },
  {
   "cell_type": "code",
   "execution_count": 74,
   "id": "58cb2c8a-6c22-4e57-b709-31b3a5d088ba",
   "metadata": {},
   "outputs": [
    {
     "data": {
      "text/plain": [
       "25"
      ]
     },
     "execution_count": 74,
     "metadata": {},
     "output_type": "execute_result"
    }
   ],
   "source": [
    "named_age"
   ]
  },
  {
   "cell_type": "code",
   "execution_count": 80,
   "id": "329b286d-cc28-4ef8-9157-6e992516a280",
   "metadata": {},
   "outputs": [
    {
     "name": "stdout",
     "output_type": "stream",
     "text": [
      "my age is: 25\n"
     ]
    }
   ],
   "source": [
    "age = 25\n",
    "print(\"my age is:\",age)"
   ]
  },
  {
   "cell_type": "code",
   "execution_count": 75,
   "id": "ab106e73-86e0-4fa1-a14e-58b07661e28f",
   "metadata": {},
   "outputs": [
    {
     "name": "stdout",
     "output_type": "stream",
     "text": [
      "My age is :25\n"
     ]
    }
   ],
   "source": [
    "print(f\"My age is :{age}\")"
   ]
  },
  {
   "cell_type": "code",
   "execution_count": 76,
   "id": "1819d7fd-b794-4571-aa40-004bbe02cf62",
   "metadata": {},
   "outputs": [
    {
     "name": "stdout",
     "output_type": "stream",
     "text": [
      " my age is 25\n"
     ]
    }
   ],
   "source": [
    "print(\" my age is {}\".format(age))"
   ]
  },
  {
   "cell_type": "code",
   "execution_count": 81,
   "id": "42511dd8-0f9d-462c-bb01-244bf2a9e886",
   "metadata": {},
   "outputs": [
    {
     "name": "stdout",
     "output_type": "stream",
     "text": [
      "my age is: 334\n"
     ]
    }
   ],
   "source": [
    "namedage = 334\n",
    "print(\"my age is:\",namedage)"
   ]
  },
  {
   "cell_type": "code",
   "execution_count": null,
   "id": "b80b4eb1-1518-46f3-b8f8-b40194d09975",
   "metadata": {},
   "outputs": [],
   "source": []
  },
  {
   "cell_type": "markdown",
   "id": "ad479538-ac13-44be-b4a0-767abc5f7b24",
   "metadata": {},
   "source": [
    "## Q8. Declare a variable named price and assign the value 9.99 to it. What data type does this variable belong to ?\n"
   ]
  },
  {
   "cell_type": "code",
   "execution_count": 3,
   "id": "74e2ef47-4016-4dca-a52c-4232fb720887",
   "metadata": {},
   "outputs": [],
   "source": [
    "named_price = 99.99"
   ]
  },
  {
   "cell_type": "code",
   "execution_count": 4,
   "id": "baf53970-b332-4247-960a-11d37a622df7",
   "metadata": {},
   "outputs": [
    {
     "data": {
      "text/plain": [
       "99.99"
      ]
     },
     "execution_count": 4,
     "metadata": {},
     "output_type": "execute_result"
    }
   ],
   "source": [
    "named_price"
   ]
  },
  {
   "cell_type": "code",
   "execution_count": 5,
   "id": "37d1db59-3e92-4b14-bd4e-11ae062cf73c",
   "metadata": {},
   "outputs": [
    {
     "data": {
      "text/plain": [
       "float"
      ]
     },
     "execution_count": 5,
     "metadata": {},
     "output_type": "execute_result"
    }
   ],
   "source": [
    "type(named_price)"
   ]
  },
  {
   "cell_type": "code",
   "execution_count": null,
   "id": "43ee3d13-c392-42a6-822e-b01e75d60375",
   "metadata": {},
   "outputs": [],
   "source": []
  },
  {
   "cell_type": "markdown",
   "id": "ad46359f-43eb-4456-ad75-15ae5294ce2f",
   "metadata": {},
   "source": [
    "## Q9. Create a variable named name and assign your full name to it as a string. How would you print the value of ths variable?"
   ]
  },
  {
   "cell_type": "code",
   "execution_count": null,
   "id": "8b677b2e-67a7-4b4b-8117-d591b7147add",
   "metadata": {},
   "outputs": [],
   "source": []
  },
  {
   "cell_type": "code",
   "execution_count": 8,
   "id": "0f65c92e-206a-4cc6-8abb-797a6ddb4d6d",
   "metadata": {},
   "outputs": [],
   "source": [
    "named_name = \"atul_patil\""
   ]
  },
  {
   "cell_type": "code",
   "execution_count": 9,
   "id": "188b165b-f1dd-4c24-92a0-e4e210bd498d",
   "metadata": {},
   "outputs": [
    {
     "data": {
      "text/plain": [
       "str"
      ]
     },
     "execution_count": 9,
     "metadata": {},
     "output_type": "execute_result"
    }
   ],
   "source": [
    "type(named_name)"
   ]
  },
  {
   "cell_type": "code",
   "execution_count": 10,
   "id": "2b8e06b8-e0c1-4a1f-a9f2-d2269ca4b019",
   "metadata": {},
   "outputs": [
    {
     "name": "stdout",
     "output_type": "stream",
     "text": [
      "atul_patil\n"
     ]
    }
   ],
   "source": [
    "named_name = \"atul_patil\"\n",
    "print(named_name)"
   ]
  },
  {
   "cell_type": "code",
   "execution_count": null,
   "id": "a4c9466d-ff6d-40ec-9036-a2c4a7ef91dd",
   "metadata": {},
   "outputs": [],
   "source": []
  },
  {
   "cell_type": "markdown",
   "id": "384e293c-985d-424e-a444-ab0130ff2381",
   "metadata": {},
   "source": [
    "## Q10. Given the string \"Hello, World!\", extract the substring \"World\"."
   ]
  },
  {
   "cell_type": "code",
   "execution_count": 25,
   "id": "a62718fb-5dd5-42c2-9126-a2dfa529f41f",
   "metadata": {},
   "outputs": [],
   "source": [
    "sting = \"hello,world!\""
   ]
  },
  {
   "cell_type": "code",
   "execution_count": 26,
   "id": "0c24f504-495f-4e82-97da-9496b5c3d557",
   "metadata": {},
   "outputs": [
    {
     "data": {
      "text/plain": [
       "'world!'"
      ]
     },
     "execution_count": 26,
     "metadata": {},
     "output_type": "execute_result"
    }
   ],
   "source": [
    "sting[6:]"
   ]
  },
  {
   "cell_type": "code",
   "execution_count": null,
   "id": "a2894656-2d4b-4205-8bf2-cb85a49ab300",
   "metadata": {},
   "outputs": [],
   "source": []
  },
  {
   "cell_type": "markdown",
   "id": "c00308f3-e819-43e6-a348-a0c37daf2962",
   "metadata": {},
   "source": [
    "## Q11. Create a variable named \"is_student\" and assign it a boolean value indicating whether you are currently student or not.\n"
   ]
  },
  {
   "cell_type": "code",
   "execution_count": 27,
   "id": "9bd00215-62a9-48e6-b502-cb89b107ba80",
   "metadata": {},
   "outputs": [],
   "source": [
    "is_student = True"
   ]
  },
  {
   "cell_type": "code",
   "execution_count": 28,
   "id": "a5f464e0-38f5-439b-bf4b-2987c1bf9c7e",
   "metadata": {},
   "outputs": [
    {
     "data": {
      "text/plain": [
       "True"
      ]
     },
     "execution_count": 28,
     "metadata": {},
     "output_type": "execute_result"
    }
   ],
   "source": [
    "is_student"
   ]
  },
  {
   "cell_type": "code",
   "execution_count": null,
   "id": "b39c6487-799b-4a56-8129-efc3f75482c9",
   "metadata": {},
   "outputs": [],
   "source": []
  },
  {
   "cell_type": "markdown",
   "id": "a577cf49-d8f7-4627-a138-8cec74e45548",
   "metadata": {},
   "source": [
    "## Q4. How do you write and execute a Python script from the command line?"
   ]
  },
  {
   "cell_type": "code",
   "execution_count": null,
   "id": "cb4f26b1-6574-44eb-b1ef-78071977a84f",
   "metadata": {},
   "outputs": [],
   "source": [
    " $C:\\Users\\HP\\Desktop> python  \"myscript.py\"\n",
    "hello atul"
   ]
  },
  {
   "cell_type": "code",
   "execution_count": null,
   "id": "b983ff76-6d48-4c22-8f02-f8c0e1a5b6e2",
   "metadata": {},
   "outputs": [],
   "source": []
  },
  {
   "cell_type": "code",
   "execution_count": null,
   "id": "867dd9f6-5525-4d11-8598-7e9abfd91248",
   "metadata": {},
   "outputs": [],
   "source": []
  },
  {
   "cell_type": "code",
   "execution_count": null,
   "id": "746f0e79-d9af-4137-a7df-22f20bafb677",
   "metadata": {},
   "outputs": [],
   "source": []
  },
  {
   "cell_type": "code",
   "execution_count": null,
   "id": "ac15cb37-bf09-40e9-af05-d07e22f65ecf",
   "metadata": {},
   "outputs": [],
   "source": []
  },
  {
   "cell_type": "code",
   "execution_count": null,
   "id": "1cf57981-8a74-40ea-bbae-92bfa344e561",
   "metadata": {},
   "outputs": [],
   "source": []
  },
  {
   "cell_type": "code",
   "execution_count": null,
   "id": "73b8a799-4e7c-4d1c-9e38-422b266bb847",
   "metadata": {},
   "outputs": [],
   "source": []
  },
  {
   "cell_type": "code",
   "execution_count": null,
   "id": "ae31c095-a89b-4ffb-9133-bc695960c28e",
   "metadata": {},
   "outputs": [],
   "source": []
  },
  {
   "cell_type": "code",
   "execution_count": null,
   "id": "3e233c84-a909-412c-ae1d-37145422afcc",
   "metadata": {},
   "outputs": [],
   "source": []
  },
  {
   "cell_type": "code",
   "execution_count": null,
   "id": "2d309be4-ccc4-4e62-baa2-38810a8ec478",
   "metadata": {},
   "outputs": [],
   "source": []
  },
  {
   "cell_type": "code",
   "execution_count": null,
   "id": "81f22aa0-4e75-47c1-841f-4d636b64b492",
   "metadata": {},
   "outputs": [],
   "source": []
  },
  {
   "cell_type": "code",
   "execution_count": null,
   "id": "4b2cfa9d-af15-490c-82cd-ce84a4b71921",
   "metadata": {},
   "outputs": [],
   "source": []
  },
  {
   "cell_type": "code",
   "execution_count": null,
   "id": "02759e61-becd-49c1-aeba-0e5e4211642f",
   "metadata": {},
   "outputs": [],
   "source": []
  },
  {
   "cell_type": "code",
   "execution_count": null,
   "id": "17781246-808d-4661-b365-f2aa8df12926",
   "metadata": {},
   "outputs": [],
   "source": []
  },
  {
   "cell_type": "code",
   "execution_count": null,
   "id": "034264e3-e9dc-43f8-95aa-7d044552343f",
   "metadata": {},
   "outputs": [],
   "source": []
  },
  {
   "cell_type": "code",
   "execution_count": null,
   "id": "9a194071-1018-4624-93af-2925459a2fe5",
   "metadata": {},
   "outputs": [],
   "source": []
  },
  {
   "cell_type": "code",
   "execution_count": null,
   "id": "e88aa470-0c94-47ef-aced-ab82c54afacf",
   "metadata": {},
   "outputs": [],
   "source": []
  },
  {
   "cell_type": "code",
   "execution_count": null,
   "id": "900bb682-f6b6-4369-a55f-f6e10acb231a",
   "metadata": {},
   "outputs": [],
   "source": []
  },
  {
   "cell_type": "code",
   "execution_count": null,
   "id": "2b7dd947-43b4-4bb4-b105-9ca7b60e69a4",
   "metadata": {},
   "outputs": [],
   "source": []
  },
  {
   "cell_type": "code",
   "execution_count": null,
   "id": "ba97c54f-4314-4c17-b26e-305f62b327a7",
   "metadata": {},
   "outputs": [],
   "source": []
  },
  {
   "cell_type": "code",
   "execution_count": null,
   "id": "20a0a32c-26a4-46f7-8610-342fac2b8931",
   "metadata": {},
   "outputs": [],
   "source": []
  },
  {
   "cell_type": "code",
   "execution_count": null,
   "id": "dbaa00c0-9e16-4586-9b71-1beac89f780a",
   "metadata": {},
   "outputs": [],
   "source": []
  },
  {
   "cell_type": "code",
   "execution_count": null,
   "id": "d079aaf3-9e9d-46eb-b661-4433ddcb0df2",
   "metadata": {},
   "outputs": [],
   "source": []
  },
  {
   "cell_type": "code",
   "execution_count": null,
   "id": "0dde5a9f-6f60-4067-abff-15dd245f4372",
   "metadata": {},
   "outputs": [],
   "source": []
  },
  {
   "cell_type": "code",
   "execution_count": null,
   "id": "1679a6d5-8aa5-47a7-a583-ea553188f995",
   "metadata": {},
   "outputs": [],
   "source": []
  },
  {
   "cell_type": "code",
   "execution_count": null,
   "id": "9fdd7550-060b-4553-a28a-1676c478a2d7",
   "metadata": {},
   "outputs": [],
   "source": []
  },
  {
   "cell_type": "code",
   "execution_count": null,
   "id": "65f83c53-9001-4999-803d-2fd1b7f6a323",
   "metadata": {},
   "outputs": [],
   "source": []
  },
  {
   "cell_type": "code",
   "execution_count": null,
   "id": "92e0d692-9815-47da-b40c-cf33e7b1dd27",
   "metadata": {},
   "outputs": [],
   "source": []
  },
  {
   "cell_type": "code",
   "execution_count": null,
   "id": "40869dd4-be76-4f5a-8c1b-fd4b50b3503a",
   "metadata": {},
   "outputs": [],
   "source": []
  },
  {
   "cell_type": "code",
   "execution_count": null,
   "id": "0e199a4f-b0f4-421f-ba1b-0bea4ed226e9",
   "metadata": {},
   "outputs": [],
   "source": []
  },
  {
   "cell_type": "code",
   "execution_count": null,
   "id": "3e95b0ff-fa41-459c-b33c-67d74a756b11",
   "metadata": {},
   "outputs": [],
   "source": []
  },
  {
   "cell_type": "code",
   "execution_count": null,
   "id": "b7d1a6a8-fc59-47c6-98df-0cf2545ce00d",
   "metadata": {},
   "outputs": [],
   "source": []
  },
  {
   "cell_type": "code",
   "execution_count": null,
   "id": "10f70d36-22a2-4272-adce-e266aed6dfa5",
   "metadata": {},
   "outputs": [],
   "source": []
  },
  {
   "cell_type": "code",
   "execution_count": null,
   "id": "d5f514d9-3e8d-4111-ad3c-77e619a257c7",
   "metadata": {},
   "outputs": [],
   "source": []
  },
  {
   "cell_type": "code",
   "execution_count": null,
   "id": "7e339ea2-a008-4031-b672-a34fecbafff0",
   "metadata": {},
   "outputs": [],
   "source": []
  }
 ],
 "metadata": {
  "kernelspec": {
   "display_name": "Python 3 (ipykernel)",
   "language": "python",
   "name": "python3"
  },
  "language_info": {
   "codemirror_mode": {
    "name": "ipython",
    "version": 3
   },
   "file_extension": ".py",
   "mimetype": "text/x-python",
   "name": "python",
   "nbconvert_exporter": "python",
   "pygments_lexer": "ipython3",
   "version": "3.10.8"
  }
 },
 "nbformat": 4,
 "nbformat_minor": 5
}
